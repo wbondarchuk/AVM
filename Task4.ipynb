{
 "cells": [
  {
   "cell_type": "markdown",
   "metadata": {},
   "source": [
    "# Задача 4\n",
    "\n",
    "Используя интегральное представление для функций Бесселя целого индекса m:\n",
    "\n",
    "$$ J_m(x) = \\frac{1}{\\pi} \\int_0^{\\pi} \\cos{(mt - x \\sin{t})}dt $$\n",
    "\n",
    "и вычисляя производную с помощью конечной разности в тех же точках, что и сам интеграл, продемонстрировать выполнение равенства\n",
    "\n",
    "$$ J_0'(x) + J_1(x) = 0 $$\n",
    "\n",
    "с точностью не хуже $10^{-10}$ на отрезке $x \\in [0, 2\\pi]$"
   ]
  },
  {
   "cell_type": "code",
   "execution_count": 1,
   "metadata": {},
   "outputs": [],
   "source": [
    "import numpy as np\n",
    "import matplotlib.pyplot as plt\n",
    "from math import *"
   ]
  },
  {
   "cell_type": "markdown",
   "metadata": {},
   "source": [
    "#### Задаем подынтегральную функцию, переделы, отрезок для x"
   ]
  },
  {
   "cell_type": "code",
   "execution_count": 2,
   "metadata": {},
   "outputs": [],
   "source": [
    "class Func:\n",
    "    def __init__(self):\n",
    "        self.x = 0.0\n",
    "        self.m = 1\n",
    "    \n",
    "    def set_x(self, x):\n",
    "        self.x = x\n",
    "        \n",
    "    def set_m(self, m):\n",
    "        self.m = m\n",
    "        \n",
    "    def func(self, t):\n",
    "        return cos(self.m*t-self.x*sin(t))/pi"
   ]
  },
  {
   "cell_type": "code",
   "execution_count": 3,
   "metadata": {},
   "outputs": [],
   "source": [
    "t_l = 0 #нижний предел интегрирования\n",
    "t_h = np.pi #верхний предел\n",
    "\n",
    "#интервал по x\n",
    "x_l = 0\n",
    "x_h = 2*np.pi "
   ]
  },
  {
   "cell_type": "markdown",
   "metadata": {},
   "source": [
    "#### Определем функции для интегрирования (методом Симпсона)\n",
    "\n",
    "* f - подынтегральная функция\n",
    "* N - число интервалов разбиения\n",
    "* $[a, b]$ - отрезок интегрирования\n",
    "* h - ширина интервалов разбиения"
   ]
  },
  {
   "cell_type": "code",
   "execution_count": 4,
   "metadata": {},
   "outputs": [],
   "source": [
    "def simpson_method(f, N, a, b):\n",
    "    if N % 2 == 1:\n",
    "        N += 1\n",
    "\n",
    "    h = (b - a) / N\n",
    "    s = f(a) + f(b)\n",
    "    n = int(N/2)\n",
    "    for i in range(1, n):\n",
    "        s += 2 * f(a + h * 2 * i)\n",
    "    for i in range(1, n + 1):\n",
    "        s += 4 * f(a + h * (2 * i - 1))\n",
    "    return s * h / 3"
   ]
  },
  {
   "cell_type": "markdown",
   "metadata": {},
   "source": [
    "#### Нахождение производной методом конечной разности:\n",
    "\n",
    "$$ f'(a) = 1! \\cdot \\frac{f(a + h) - f(a - h)}{2h} $$\n",
    "\n",
    "\"Конечные разности нечётного порядка аппроксимируют значения соответствующих производных со вторым порядком точности в средней точке между центральными узлами сетки, тогда как аппроксимация в узлах имеет лишь первый порядок по $h$ . Как следствие, для аппроксимации производных нечётного порядка в узлах $x_i$, конечные разности выгодно вычислять на сетке с удвоенным шагом $2h$.\""
   ]
  },
  {
   "cell_type": "markdown",
   "metadata": {},
   "source": [
    "#### Считаем: \n",
    "\n",
    "Делим интервал для $x \\in [0, 2\\pi]$ на k интервалов. И будем проверять выполнение равенства в точках $ 0 = x_0, x_1, x_2 .... x_k = 2\\pi $\n",
    "$$ x_i = x_0 + i\\cdot step $$"
   ]
  },
  {
   "cell_type": "code",
   "execution_count": 5,
   "metadata": {},
   "outputs": [
    {
     "name": "stdout",
     "output_type": "stream",
     "text": [
      "h 1e-05\n",
      "6.283185307179586\n",
      "0\n"
     ]
    }
   ],
   "source": [
    "N = 30 #интервалы разбиения для интегрирования\n",
    "k = 30 #интервалы для x\n",
    "h_der = 1e-5 #шаг для производной\n",
    "print('h', h_der)\n",
    "x_step = (x_h - x_l)/k\n",
    "print(x_step*k)\n",
    "\n",
    "x_s = [] #x_i\n",
    "results = [] #значение разности в каждом x_i\n",
    "\n",
    "x_i = x_l #x_0 = x_l = 0\n",
    "print(x_i)\n",
    "\n",
    "F = Func()"
   ]
  },
  {
   "cell_type": "code",
   "execution_count": 6,
   "metadata": {},
   "outputs": [],
   "source": [
    "for i in range(k+1):\n",
    "    x_i = x_l + i*x_step\n",
    "    x_s.append(x_i)\n",
    "    \n",
    "    F.set_m(1)\n",
    "    F.set_x(x_i)\n",
    "    J1 = simpson_method(F.func, N, t_l, t_h)\n",
    "    \n",
    "    F.set_m(0)\n",
    "    F.set_x(x_i + h_der)\n",
    "    J0_right = simpson_method(F.func, N, t_l, t_h)\n",
    "    F.set_x(x_i - h_der)\n",
    "    J0_left = simpson_method(F.func, N, t_l, t_h)\n",
    "    der = (J0_right - J0_left)/(2*h_der)\n",
    "    \n",
    "    results.append(J1 + der)"
   ]
  },
  {
   "cell_type": "code",
   "execution_count": 7,
   "metadata": {},
   "outputs": [
    {
     "data": {
      "image/png": "[encoded data removed]",
      "text/plain": [
       "<Figure size 432x288 with 1 Axes>"
      ]
     },
     "metadata": {
      "needs_background": "light"
     },
     "output_type": "display_data"
    }
   ],
   "source": [
    "plt.plot(x_s, results, 'b')\n",
    "plt.grid()\n",
    "plt.xlabel('x_i')\n",
    "plt.ylabel('J\\'0 + J1')\n",
    "plt.title('J\\'0(x_i) + J1(x_i)')\n",
    "plt.show()"
   ]
  },
  {
   "cell_type": "markdown",
   "metadata": {},
   "source": [
    "#### Исследуем поведение результатов в зависимости от размеров шагов для вычисления интеграла и производной"
   ]
  },
  {
   "cell_type": "markdown",
   "metadata": {},
   "source": [
    "##### 1. Шаг для вычисления интеграла\n",
    "`N` - кол-во интералов разбиения для интегрирования\n",
    "\n",
    "Будем варьировать от 10 до 500 с шагом в 10. Построим график зависимости максимального по модулю значения $J_0'(x) + J_1(x)$ от `N`."
   ]
  },
  {
   "cell_type": "code",
   "execution_count": 88,
   "metadata": {},
   "outputs": [],
   "source": [
    "t_l = 0 #нижний предел интегрирования\n",
    "t_h = np.pi #верхний предел\n",
    "\n",
    "#интервал по x\n",
    "x_l = 0\n",
    "x_h = 2*np.pi \n",
    "\n",
    "k = 30 #интервалы для x\n",
    "h_der = 1e-5 #шаг для производной\n",
    "x_step = (x_h - x_l)/k\n",
    "\n",
    "x_i = x_l #x_0 = x_l = 0\n",
    "\n",
    "F = Func()\n",
    "\n",
    "results_N = []\n",
    "\n",
    "for N in range (10,501, 10):\n",
    "    res_max = 0\n",
    "    for i in range(k+1):\n",
    "        x_i = x_l + i*x_step\n",
    "    \n",
    "        F.set_m(1)\n",
    "        F.set_x(x_i)\n",
    "        J1 = simpson_method(F.func, N, t_l, t_h)\n",
    "\n",
    "        F.set_m(0)\n",
    "        F.set_x(x_i + h_der)\n",
    "        J0_right = simpson_method(F.func, N, t_l, t_h)\n",
    "        F.set_x(x_i - h_der)\n",
    "        J0_left = simpson_method(F.func, N, t_l, t_h)\n",
    "        der = (J0_right - J0_left)/(2*h_der)\n",
    "        \n",
    "        if abs(J1 + der) > res_max:\n",
    "            res_max = abs(J1 + der)\n",
    "    results_N.append(res_max)"
   ]
  },
  {
   "cell_type": "code",
   "execution_count": 89,
   "metadata": {},
   "outputs": [
    {
     "data": {
      "text/plain": [
       "0.006283185307179587"
      ]
     },
     "execution_count": 89,
     "metadata": {},
     "output_type": "execute_result"
    }
   ],
   "source": [
    "N = 500\n",
    "(t_h - t_l)/N"
   ]
  },
  {
   "cell_type": "code",
   "execution_count": 90,
   "metadata": {},
   "outputs": [
    {
     "data": {
      "image/png": "[encoded data removed]",
      "text/plain": [
       "<Figure size 432x288 with 1 Axes>"
      ]
     },
     "metadata": {
      "needs_background": "light"
     },
     "output_type": "display_data"
    }
   ],
   "source": [
    "plt.plot([N for N in range(10, 501, 10)], results_N, 'b')\n",
    "plt.grid()\n",
    "plt.xlabel('N')\n",
    "plt.ylabel('max(|J\\'0 + J1|)')\n",
    "plt.title('        Зависимость максимальной ошибки от N')\n",
    "plt.show()"
   ]
  },
  {
   "cell_type": "markdown",
   "metadata": {},
   "source": [
    "##### 2. Шаг для вычисления производной\n",
    "\n",
    "`h_der` - шаг для вычисления производной методом конечной разности. Будем менять от $1$ до $10^{-10}$, уменьшая на каждом шаге в 10 раз. Построим график зависимости максимального по модулю значения $J_0'(x) + J_1(x)$ от `h_der`."
   ]
  },
  {
   "cell_type": "code",
   "execution_count": 51,
   "metadata": {},
   "outputs": [],
   "source": [
    "simpson_method(F.func, N, t_l, t_h)\n",
    "\n",
    "#интервал по x\n",
    "x_l = 0\n",
    "x_h = 2*np.pi \n",
    "\n",
    "N = 30 #шаг для вычисления интеграла\n",
    "k = 30 #интервалы для x\n",
    "\n",
    "x_step = (x_h - x_l)/k\n",
    "\n",
    "x_i = x_l #x_0 = x_l = 0\n",
    "\n",
    "F = Func()\n",
    "\n",
    "results_h = []\n",
    "h_val = []\n",
    "\n",
    "h_der = 10.0\n",
    "\n",
    "for j in range (11):\n",
    "    \n",
    "    h_der = h_der/10\n",
    "    h_val.append(h_der)\n",
    "    res_max = 0\n",
    "    \n",
    "    for i in range(k+1):\n",
    "        x_i = x_l + i*x_step\n",
    "    \n",
    "        F.set_m(1)\n",
    "        F.set_x(x_i)\n",
    "        J1 = simpson_method(F.func, N, t_l, t_h)\n",
    "\n",
    "        F.set_m(0)\n",
    "        F.set_x(x_i-h_der)\n",
    "        J0_right = simpson_method(F.func, N, t_l, t_h)\n",
    "        F.set_x(x_i + h_der)\n",
    "        J0_left = simpson_method(F.func, N, t_l, t_h)\n",
    "        der = (J0_left - J0_right)/(2*h_der)\n",
    "        \n",
    "        if abs(J1 + der) > res_max:\n",
    "            res_max = abs(J1 + der)\n",
    "    results_h.append(res_max)"
   ]
  },
  {
   "cell_type": "code",
   "execution_count": 52,
   "metadata": {},
   "outputs": [
    {
     "data": {
      "image/png": "[encoded data removed]",
      "text/plain": [
       "<Figure size 432x288 with 1 Axes>"
      ]
     },
     "metadata": {
      "needs_background": "light"
     },
     "output_type": "display_data"
    }
   ],
   "source": [
    "plt.plot(h_val, results_h, 'b')\n",
    "plt.grid()\n",
    "plt.xlabel('h_der')\n",
    "plt.ylabel('max(|J\\'0 + J1|)')\n",
    "plt.loglog()\n",
    "plt.title('    Зависимость максимального отклонения от h_der')\n",
    "plt.show()"
   ]
  },
  {
   "cell_type": "code",
   "execution_count": 53,
   "metadata": {},
   "outputs": [
    {
     "data": {
      "text/plain": [
       "[1.0,\n",
       " 0.1,\n",
       " 0.01,\n",
       " 0.001,\n",
       " 0.0001,\n",
       " 1e-05,\n",
       " 1.0000000000000002e-06,\n",
       " 1.0000000000000002e-07,\n",
       " 1.0000000000000002e-08,\n",
       " 1.0000000000000003e-09,\n",
       " 1.0000000000000003e-10]"
      ]
     },
     "execution_count": 53,
     "metadata": {},
     "output_type": "execute_result"
    }
   ],
   "source": [
    "h_val"
   ]
  },
  {
   "cell_type": "code",
   "execution_count": 54,
   "metadata": {},
   "outputs": [
    {
     "data": {
      "text/plain": [
       "[0.0658795225308435,\n",
       " 0.0006858437283749907,\n",
       " 6.861198106888899e-06,\n",
       " 6.861232415555918e-08,\n",
       " 6.86020684703692e-10,\n",
       " 2.201638871213163e-11,\n",
       " 3.104054790981081e-10,\n",
       " 1.6462623486646066e-09,\n",
       " 1.3312353996930426e-08,\n",
       " 1.9207890555872353e-07,\n",
       " 2.14247750809915e-06]"
      ]
     },
     "execution_count": 54,
     "metadata": {},
     "output_type": "execute_result"
    }
   ],
   "source": [
    "results_h"
   ]
  },
  {
   "cell_type": "code",
   "execution_count": 23,
   "metadata": {},
   "outputs": [
    {
     "data": {
      "image/png": "[encoded data removed]",
      "text/plain": [
       "<Figure size 432x288 with 1 Axes>"
      ]
     },
     "metadata": {
      "needs_background": "light"
     },
     "output_type": "display_data"
    }
   ],
   "source": [
    "int_res = []\n",
    "\n",
    "int_30 = simpson_method(F.func, 30, t_l, t_h)\n",
    "\n",
    "x_l = 0\n",
    "x_h = 2*np.pi \n",
    "\n",
    "F = Func()\n",
    "\n",
    "for N in range(10, 501, 10):\n",
    "    int_res.append(abs(simpson_method(F.func, N, t_l, t_h) - int_30))\n",
    "    \n",
    "plt.plot([N for N in range(10, 501, 10)], int_res, 'bo')\n",
    "plt.grid()\n",
    "plt.xlabel('N')\n",
    "plt.ylabel('Отклонение от интеграла при N=30')\n",
    "plt.title('')\n",
    "plt.yscale(\"log\")\n",
    "plt.show()"
   ]
  }
 ],
 "metadata": {
  "kernelspec": {
   "display_name": "Python 3",
   "language": "python",
   "name": "python3"
  },
  "language_info": {
   "codemirror_mode": {
    "name": "ipython",
    "version": 3
   },
   "file_extension": ".py",
   "mimetype": "text/x-python",
   "name": "python",
   "nbconvert_exporter": "python",
   "pygments_lexer": "ipython3",
   "version": "3.7.3"
  }
 },
 "nbformat": 4,
 "nbformat_minor": 4
}
